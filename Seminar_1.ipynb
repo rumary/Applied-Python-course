{
 "cells": [
  {
   "cell_type": "markdown",
   "metadata": {},
   "source": [
    "## <center>\"Введение в машинное обучение и анализ данных на языке Python\".\n",
    "\n"
   ]
  },
  {
   "cell_type": "markdown",
   "metadata": {},
   "source": [
    "# <center> Семинар 1\n",
    "\n",
    "## <center> Вводная лекция. Современные инструменты и пакеты для анализа данных и машинного обучения. Основы языка Python."
   ]
  },
  {
   "cell_type": "markdown",
   "metadata": {},
   "source": [
    "**Семинар 1**. Введение. Постановка задачи машинного обучения и анализа данных. Современные инструменты и пакеты для анализа данных. Основы языка Python. Встроенные типы данных. Условный оператор.  \n",
    "\n",
    "\n",
    "**Семинар 2**. Контейнеры. Списки, сортировка списков. Функции. Рекурсия. Разбор алгоритмических задач на **Python**. Работа с исключениями. Регулярные выражения. \n",
    "\n",
    "**Семинар 3-4** .  Специализированные библиотеки Python для численных методов и анализа данных. Библиотека **NumPy**. Первичный анализ данных с Pandas и визуализация с помощью библиотек **Seaborn/Matplotlib/Plotly**. \n",
    "\n",
    "**Семинар 5**.  Линейный модели. Линейная регрессия и стохастический градиентный спуск. Логистическая регрессия. Метрики качества. Проблема переобучения. Знакомство с библиотекой **sklearn**.\n",
    "\n",
    "**Семинар 6**.  Метод ближайших соседей. Решающие деревья в задаче классификации и регресии. \n",
    "\n",
    "**Семинар 7**.  Решающие деревья в задаче классификации и регресии. Композиции: бэггинг, случайный лес. \n",
    "\n",
    "**Семинар 8**. Понижение размерности. Матричные разложения. Обучение без учителя: PCA (Метод главных компнент) и кластеризация. \n",
    "\n",
    "**Семинар 9**. Градиентный бустинг. Регуляризация деревьев. XGBoost.\n",
    "\n",
    "**Семинар 10**. Метод обратного распространения ошибки. Нейронные сети. \n",
    "\n",
    "**Семинар 11**. Библиотеки **TensorFlow/Keras**. (+ пример с решением диффура)"
   ]
  },
  {
   "cell_type": "code",
   "execution_count": 4,
   "metadata": {},
   "outputs": [],
   "source": [
    "######\n",
    "##1. Написать введение про \n",
    "##- актуальность машинного обучение/анализа данных\n",
    "##- ссылки на ресурсы\n",
    "##- прикольная задачка для иллюстрации\n",
    "#####"
   ]
  },
  {
   "cell_type": "markdown",
   "metadata": {},
   "source": [
    "# Почему Python?"
   ]
  },
  {
   "cell_type": "markdown",
   "metadata": {
    "collapsed": true
   },
   "source": [
    "Сейчас почти все, кто занимаются прикладным анализом данных и машинным обучением делают это на языке **Python**. Использование Python позволяет не писать все алгоритмы с нуля, а пользоваться уже готовыми пакетами (sklearn, skicit learn). Собственно, ситуация здесь примерно как с фотографией. Раньше ей занимались единицы, поскольку надо было ехать в специализированные магазины, мешать закрепители и проявители, проявлять по ночам и т.п. Сейчас любой может купить фотоаппарат практически любого уровня, нажать на кнопку и тут же увидеть фотографию. Так и в анализе данных: раньше им занимались лишь специалисты, теперь порог вхождения минимален, машинным обучением можно «баловаться», не особо понимая, а что находится внутри «чёрных ящиков»."
   ]
  },
  {
   "cell_type": "markdown",
   "metadata": {},
   "source": [
    "Но прежде, чем приступить к разбору основных пакетов и алгоритмов машинного обучения, необходимо познакомиться с основами языка Python, потому что написание полноценной программы для решения вашей задачи анализа данных потребует, кроме знания математики и основных пакетов, также написания кода на \"чистом\" Python. К тому же, если вдруг решите написать свой алгоритм, например, свое дерево решений или линейную регрессию, нужно уметь свободно делать это на Python.\n"
   ]
  },
  {
   "cell_type": "markdown",
   "metadata": {},
   "source": [
    "Основные архитектурные черты Python – динамическая типизация, автоматическое управление памятью, механизм обработки исключений, поддержка многопоточных вычислений и удобные высокоуровневые структуры данных. Код в Питоне организовывается в функции и классы, которые могут объединяться в модули (они в свою очередь могут быть объединены в пакеты).\n",
    "\n",
    "Код на Python чаще всего намного более читаемый, чем на C или C++, потому что:\n",
    "\n",
    "- типы данных высокого уровня позволяют выражать сложные операции одной или несколькими простыми командами\n",
    "- группирование инструкций выполняется отступами, а не фигурными скобками\n",
    "- не надо объявлять переменные\n",
    "\n",
    "\n",
    "К данному моменту были выпущены уже три версии языка — Python 1, Python 2, Python 3, причем первые две из них обратно совместимы, а Python 3 и Python 2 — уже нет. Это связано с тем, что те улучшения, которые были сделаны в Python 3, невозможно внести без нарушения обратной совместимости. Официально поддерживаются обе версии: Python 3 — это будущее языка, более современная версия, а Python 2 поддержвается до сих пор из-за огромного количества наработок, которые еще не были перенесены на более свежую версию."
   ]
  },
  {
   "cell_type": "markdown",
   "metadata": {},
   "source": [
    "Язык Python отличается лаконичным синтаксисом, поэтому на нем и читать чужой код, и писать свой очень просто. Разработчики языка придерживаются философии, называемой «The Zen of Python», текст которой на английском языке выводится интерпретатором по команде import this. "
   ]
  },
  {
   "cell_type": "markdown",
   "metadata": {},
   "source": [
    "Python был выбран в качестве основного языка программирования для курса по многим причинам. Вот некоторые из них:\n",
    "1. Python — свободное ПО.\n",
    "2. Python доступен практически на всех платформах.\n",
    "3. Python прост в изучении.\n",
    "4. Python можно использовать в интерактивном режиме.\n",
    "5. Python имеет большое сообщество пользователей и разработчиков.\n",
    "6. Для Python доступно огромное число библиотек. При этом богатый набор функций имеется в стандартной библиотеке."
   ]
  },
  {
   "cell_type": "markdown",
   "metadata": {},
   "source": [
    " # Установка Python"
   ]
  },
  {
   "cell_type": "markdown",
   "metadata": {},
   "source": [
    " <img src=\"./images/logo-2.png\",width=300,height=300>"
   ]
  },
  {
   "cell_type": "markdown",
   "metadata": {},
   "source": [
    "В этом курсе мы используем сборку библиотек <a href=\"http://continuum.io/downloads\">Anaconda</a> версии 2.3.0, включающую интерпретатор Python версии 2.7 (но эти тетрадки можно выполнять и с Python 3.4), библиотеки для научных вычислений NumPy и SciPy, анализа данных Pandas, машинного обучения Scikit-learn и около 200 других. "
   ]
  },
  {
   "cell_type": "markdown",
   "metadata": {},
   "source": [
    "**Pip** — система управления пакетами, которая используется для установки и управления программными пакетами, которые написаны на Python\n",
    "\n",
    "*Команды Pip*:\n",
    "\n",
    "- pip search package_name - поиск пакета через pip\n",
    "- pip install package_name - установка пакета через pip\n",
    "\n",
    "**Conda** - менеджер пакетов питона, позволяет устанавливать уже скомпилированные пакеты (может работать и в режиме компиляции пакетов перед установкой). Также Conda - менеджер окружений системы, позволяет создавать окружения с разными версиями чего угодно (библиотеки C, низкоуровневые библиотеки и т.д.).\n",
    "\n",
    "Conda бывает в двух версиях:\n",
    "\n",
    "Anaconda - более 150 предустановленных пакетов (около 3 Гб) + более 250 пакетов, готовых к установке командой conda install package_name\n",
    "MiniConda - более 400 пакетов, готовых к установке командой conda install package_name\n"
   ]
  },
  {
   "cell_type": "markdown",
   "metadata": {},
   "source": [
    "Итак, скачиваем дистрибутив Anaconda, следуем инструкциям, проверяем установку. В командной строке набираем"
   ]
  },
  {
   "cell_type": "markdown",
   "metadata": {},
   "source": [
    "<p><i><b>>> python</b></i></p>"
   ]
  },
  {
   "cell_type": "markdown",
   "metadata": {
    "collapsed": true
   },
   "source": [
    "Дзен языка Python"
   ]
  },
  {
   "cell_type": "code",
   "execution_count": 4,
   "metadata": {},
   "outputs": [
    {
     "name": "stdout",
     "output_type": "stream",
     "text": [
      "The Zen of Python, by Tim Peters\n",
      "\n",
      "Beautiful is better than ugly.\n",
      "Explicit is better than implicit.\n",
      "Simple is better than complex.\n",
      "Complex is better than complicated.\n",
      "Flat is better than nested.\n",
      "Sparse is better than dense.\n",
      "Readability counts.\n",
      "Special cases aren't special enough to break the rules.\n",
      "Although practicality beats purity.\n",
      "Errors should never pass silently.\n",
      "Unless explicitly silenced.\n",
      "In the face of ambiguity, refuse the temptation to guess.\n",
      "There should be one-- and preferably only one --obvious way to do it.\n",
      "Although that way may not be obvious at first unless you're Dutch.\n",
      "Now is better than never.\n",
      "Although never is often better than *right* now.\n",
      "If the implementation is hard to explain, it's a bad idea.\n",
      "If the implementation is easy to explain, it may be a good idea.\n",
      "Namespaces are one honking great idea -- let's do more of those!\n"
     ]
    }
   ],
   "source": [
    "import this"
   ]
  },
  {
   "cell_type": "markdown",
   "metadata": {
    "collapsed": true
   },
   "source": [
    "Интерпретатор можно использовать в качестве настольного калькулятора"
   ]
  },
  {
   "cell_type": "code",
   "execution_count": 5,
   "metadata": {},
   "outputs": [
    {
     "name": "stdout",
     "output_type": "stream",
     "text": [
      "4\n",
      "2187\n",
      "4.12\n"
     ]
    }
   ],
   "source": [
    "print(2 + 2)\n",
    "print(3 ** 7)\n",
    "import math\n",
    "print(round(math.sqrt(17), 2))"
   ]
  },
  {
   "cell_type": "markdown",
   "metadata": {},
   "source": [
    "Но Python способен и на большее. Выведем все двузначные члены последовательности Фиббоначи (используя функцию вывода print из Python версии 2):"
   ]
  },
  {
   "cell_type": "code",
   "execution_count": 11,
   "metadata": {},
   "outputs": [
    {
     "name": "stdout",
     "output_type": "stream",
     "text": [
      "1,1,2,3,5,8,13,21,34,55,89,"
     ]
    }
   ],
   "source": [
    "from __future__ import print_function\n",
    "a, b = 1, 1\n",
    "while a < 100:\n",
    "    print (a, end=',')\n",
    "    a, b = b, a + b"
   ]
  },
  {
   "cell_type": "markdown",
   "metadata": {},
   "source": [
    "# Jupyter "
   ]
  },
  {
   "cell_type": "markdown",
   "metadata": {},
   "source": [
    "\n",
    "​\n",
    "В данном курсе все алгоритмы приведены на Python версии 2.7. Экспериментировать с Python я предлагаю в среде Jupyter (IPython). IPython - компонент стандартного набора инструментов научных расчетов на Python,  который связывает все воедино. Он обеспечивает надежную высокопроизводительную среду для интерактивных и исследовательских расчетов. Это оболочка Python с дополнительными возможностями, имеющая целью ускорить написание, тестирование и отладку кода на Python. Особенно она полезна для работы с данными и их визуализации с помощью matplotlib. Я всегда использую IPython в собственной работе для прогона, отладки и тестирования кода.\n"
   ]
  },
  {
   "cell_type": "markdown",
   "metadata": {},
   "source": [
    "Пример подобной тетрадки\n",
    "\n",
    "\n",
    "<img src=\"./images/ipython_ex.png\">"
   ]
  },
  {
   "cell_type": "markdown",
   "metadata": {},
   "source": [
    "Тетрадка IPython имеет расширение *.ipynb* и запускается локально командой\n",
    "<p><i><b>>> ipython notebook</b></i></p>\n",
    "\n",
    "Выполнять и редактировать тетрадку можно в браузере http://localhost:8888/\n",
    "\n",
    "Начиная с версии IPython 4.0, большая часть проекта перешла в Jupyter. <a href=\"http://jupyter.org/\">Jupyter</a> - это веб-приложение для обмена документами, в которых можно выполнять код на 40 популярных в анализе данных языках, включая Python, R, Julia и Scala. \n",
    "\n",
    "Тетрадки IPython - отличный способ представить идею, сразу поделиться кодом, хороши для воспроизводимости исследований, включающих написание кода."
   ]
  },
  {
   "cell_type": "markdown",
   "metadata": {},
   "source": [
    "# Основные библиотеки "
   ]
  },
  {
   "cell_type": "markdown",
   "metadata": {},
   "source": [
    "Сборка Anaconda включает очень много полезных для анализа данных библиотек. Посмотреть все установленные можно с помощью команды\n",
    "\n",
    "<p><i><b>>> conda list</b></i></p>\n",
    "\n",
    "Среди библиотек, которыми мы будем пользоваться в курсе:\n",
    " - <a href=\"http://numpy.org\">Numpy</a> - эффективные вычисления с векторами и матрицами, преобразования Фурье, линейная алгебра, интеграция с C/C++ и Fortran и прочее.\n",
    " - <a href=\"http://numpy.org\">SciPy</a> - научные вычисления. Методы оптимизации, интегрирования, модули обработки сигналов и изображений, статистика, линейная алгебра, сплайны, кластеризация и многое другое. \n",
    " -  <a href=\"http://pandas.pydata.org/\">Pandas</a> - реализация эффективных структур для анализа данных, в том числе популярного аналога *DataFrame* из языка R. Предназначена для данных разной природы - матричных, панельных данных, временных рядов. Претендует на звание самого мощного и гибкого средства для анализа данных с открытым исходным кодом.\n",
    " - <a href=\"http://scikit-learn.org/stable/\">Scikit-learn</a> - реализация очень многих методов машинного обучения и интеллекуального анализа данных (data mining) с отличной документацией. \n",
    " - <a href=\"http://http://matplotlib.org/\">matplotlib</a> - для визаулизации данных, в основном двухмерная графика. Построена на принципах ООП, но имеет процедурный интерфейс *pylab*, который предоставляет аналоги команд *MATLAB*."
   ]
  },
  {
   "cell_type": "markdown",
   "metadata": {},
   "source": [
    "# Основы языка Python"
   ]
  },
  {
   "cell_type": "markdown",
   "metadata": {},
   "source": [
    "## 1. Импортирование модулей."
   ]
  },
  {
   "cell_type": "markdown",
   "metadata": {},
   "source": [
    "Почти любая программа на Python будем начинаться со строк, с помощью которых мы загружаем тот или иной модуль. \n",
    "\n",
    "<p><i><b>>> import something </b></i></p>\n",
    "\n"
   ]
  },
  {
   "cell_type": "markdown",
   "metadata": {},
   "source": [
    "На самом деле каждый файл с исходным текстом на языке Python, имя которого оканчивается расширением .py, является модулем. Другие файлы могут обращаться к программным компонентам, объявляемым модулем, импортируя этот модуль.\n",
    "По сути инструкция import выполняет загрузку другого файла и обеспечивает доступ к его содержимому. "
   ]
  },
  {
   "cell_type": "markdown",
   "metadata": {},
   "source": [
    "Такая модульная модель является центральной идеей, лежащей в основе архитектуры программ на языке Python. Крупные программы обычно организованы в виде множества файлов модулей, которые импортируют и используют функциональные возможности из других модулей. Один из модулей определяется как основной файл верхнего уровня, который запускает всю программу."
   ]
  },
  {
   "cell_type": "code",
   "execution_count": 8,
   "metadata": {},
   "outputs": [],
   "source": [
    "import pandas as pd # загрузка модуля Pandas и всех его атрибутов."
   ]
  },
  {
   "cell_type": "markdown",
   "metadata": {},
   "source": [
    "В дальнейшем обращатся к атрибутам модуля **Pandas** можно с помощью конструкции *pd.name_of_attribute*. Пример - *pd.read_csv()* - загружает данные из файла"
   ]
  },
  {
   "cell_type": "markdown",
   "metadata": {},
   "source": [
    "## 2. Встроенные типы данных "
   ]
  },
  {
   "cell_type": "markdown",
   "metadata": {},
   "source": [
    "Если вам приходилось использовать языки программирования более низкого уровня, такие как C или C++, то вы уже знаете, что значительная доля работы приходится на реализацию объектов, известных также как структуры  данных, которые предназначены для представления составляющих предметной области. В таких языках программирования необходимо заниматься проработкой структур данных, управлять выделением памяти, реализовывать функции поиска и доступа к элементам структур и так далее. Это достаточно утомительно (и способствует появлению ошибок) и, как правило, отвлекает от достижения истинных целей.\n",
    "В типичных программах на языке Python в этом нет необходимости. Python предоставляет мощную коллекцию объектных типов, встроенных непосредственно в язык, поэтому обычно нет никакой необходимости создавать собственные реализации объектов, предназначенных для решения поставленных задач."
   ]
  },
  {
   "cell_type": "markdown",
   "metadata": {},
   "source": [
    "## 3. Динамическая типизация\n",
    "\n",
    "Типы данных в языке Python определяются автоматически во время выполнения, а не в результате\n",
    "объявлений в программном коде. Переменные создаются при выполнении операции присваивания,\n",
    "могут ссылаться на объекты любых типов и им должны быть присвоены некоторые значения, прежде\n",
    "чем к ним можно будет обратиться."
   ]
  },
  {
   "cell_type": "markdown",
   "metadata": {},
   "source": [
    "<img src=\"./images/link.png\" height=\"240\" width=\"860\">"
   ]
  },
  {
   "cell_type": "markdown",
   "metadata": {},
   "source": [
    " - Переменные – это записи в системной таблице, где предусмотрено место для хранения ссылок на\n",
    "объекты.\n",
    " - Объекты – это области памяти с объемом, достаточным для представления значений этих объектов.\n",
    "Каждый объект имеет два стандартных поля: описатель типа, используемый для хранения\n",
    "информации о типе объекта, и счетчик ссылок, используемый для определения момента, когда\n",
    "память, занимаемая объектом, может быть освобождена.\n",
    " - Ссылки – это указатели на объекты."
   ]
  },
  {
   "cell_type": "markdown",
   "metadata": {},
   "source": [
    "### Свойства объектов"
   ]
  },
  {
   "cell_type": "markdown",
   "metadata": {},
   "source": [
    "### * Идентичность *\n",
    "\n",
    "ID объекта не меняется за время его жизни\n",
    "​\n",
    "(по сути это просто указатель на обьект)"
   ]
  },
  {
   "cell_type": "code",
   "execution_count": 9,
   "metadata": {},
   "outputs": [
    {
     "data": {
      "text/plain": [
       "4600887992"
      ]
     },
     "execution_count": 9,
     "metadata": {},
     "output_type": "execute_result"
    }
   ],
   "source": [
    "a = [1, 2, 3]\n",
    "id(a)"
   ]
  },
  {
   "cell_type": "code",
   "execution_count": 10,
   "metadata": {},
   "outputs": [
    {
     "data": {
      "text/plain": [
       "4600887992"
      ]
     },
     "execution_count": 10,
     "metadata": {},
     "output_type": "execute_result"
    }
   ],
   "source": [
    "a.append(3)\n",
    "id(a)"
   ]
  },
  {
   "cell_type": "code",
   "execution_count": 11,
   "metadata": {},
   "outputs": [
    {
     "data": {
      "text/plain": [
       "[1, 2, 3, 3]"
      ]
     },
     "execution_count": 11,
     "metadata": {},
     "output_type": "execute_result"
    }
   ],
   "source": [
    "a"
   ]
  },
  {
   "cell_type": "markdown",
   "metadata": {},
   "source": [
    "### * Тип *\n",
    "\n",
    "Тип объекта не меняется за время его жизни. \n"
   ]
  },
  {
   "cell_type": "code",
   "execution_count": 13,
   "metadata": {},
   "outputs": [
    {
     "data": {
      "text/plain": [
       "list"
      ]
     },
     "execution_count": 13,
     "metadata": {},
     "output_type": "execute_result"
    }
   ],
   "source": [
    "a = [1, 2, 3]\n",
    "type(a)"
   ]
  },
  {
   "cell_type": "code",
   "execution_count": 14,
   "metadata": {},
   "outputs": [
    {
     "data": {
      "text/plain": [
       "(True, False)"
      ]
     },
     "execution_count": 14,
     "metadata": {},
     "output_type": "execute_result"
    }
   ],
   "source": [
    "isinstance(a, list), isinstance(a, tuple)"
   ]
  },
  {
   "cell_type": "markdown",
   "metadata": {},
   "source": [
    "### *Значения*\n",
    "\n",
    "То, может ли у объекта меняться значение зависит от его типа"
   ]
  },
  {
   "cell_type": "code",
   "execution_count": 18,
   "metadata": {},
   "outputs": [
    {
     "data": {
      "text/plain": [
       "140407242534280"
      ]
     },
     "execution_count": 18,
     "metadata": {},
     "output_type": "execute_result"
    }
   ],
   "source": [
    "a = 1\n",
    "id(a)"
   ]
  },
  {
   "cell_type": "code",
   "execution_count": 19,
   "metadata": {},
   "outputs": [
    {
     "data": {
      "text/plain": [
       "140407242534256"
      ]
     },
     "execution_count": 19,
     "metadata": {},
     "output_type": "execute_result"
    }
   ],
   "source": [
    "a += 1\n",
    "id(a)"
   ]
  },
  {
   "cell_type": "markdown",
   "metadata": {},
   "source": [
    "## 4. Базовые типы данных Python"
   ]
  },
  {
   "cell_type": "markdown",
   "metadata": {},
   "source": [
    "<img src=\"./images/data_structures.png\">"
   ]
  },
  {
   "cell_type": "markdown",
   "metadata": {},
   "source": [
    "# * Числа *"
   ]
  },
  {
   "cell_type": "markdown",
   "metadata": {},
   "source": [
    "Числа в Python бывают разные:\n",
    " - Целые числа (int): 122, -4, 99999999999, 0o177, 0x9ff, 0b101010\n",
    " - Вещественные числа (float): 1.0, 3.14, .5, 4E21, 4.0e21 \n",
    " - Комплексные числа (complex): 3 + 4j, 3.0 + 4.0j,  \n",
    " - Числа фиксированной точности decimal.Decimal('0.1')\n",
    " - Рациональные числа: fractions.Fraction(3, 4)"
   ]
  },
  {
   "cell_type": "markdown",
   "metadata": {},
   "source": [
    "### Операции с целыми и вещественными числами\n",
    "\n",
    "<img src=\"./images/operations.png\" height=\"1201\" width=\"681\">"
   ]
  },
  {
   "cell_type": "markdown",
   "metadata": {},
   "source": [
    "# * Строки *"
   ]
  },
  {
   "cell_type": "markdown",
   "metadata": {},
   "source": [
    "#### Строки выделяются одинарными или двойными кавычками"
   ]
  },
  {
   "cell_type": "code",
   "execution_count": 5,
   "metadata": {},
   "outputs": [],
   "source": [
    "my_string = \"This is a double-quoted string.\"\n",
    "my_string = 'This is a single-quoted string.'"
   ]
  },
  {
   "cell_type": "markdown",
   "metadata": {},
   "source": [
    "#### Разные регистры"
   ]
  },
  {
   "cell_type": "code",
   "execution_count": 7,
   "metadata": {},
   "outputs": [
    {
     "name": "stdout",
     "output_type": "stream",
     "text": [
      "eric\n",
      "Eric\n",
      "ERIC\n",
      "eric\n"
     ]
    }
   ],
   "source": [
    "first_name = 'eric'\n",
    "\n",
    "print(first_name)\n",
    "print(first_name.title())\n",
    "print(first_name.upper())\n",
    "\n",
    "first_name = 'Eric'\n",
    "print(first_name.lower())"
   ]
  },
  {
   "cell_type": "markdown",
   "metadata": {},
   "source": [
    "*upper()*, *lower()* и *title()* - это методы. \n",
    "\n",
    "Синтаксис: variable_name.action()\n",
    "\n",
    "*action* - это название метода, который можно применить к переменной *variable_name*. В скобках можно указывать другие переменные (аргументы) метода. "
   ]
  },
  {
   "cell_type": "markdown",
   "metadata": {},
   "source": [
    "#### Конкатенация строк"
   ]
  },
  {
   "cell_type": "code",
   "execution_count": 8,
   "metadata": {},
   "outputs": [
    {
     "name": "stdout",
     "output_type": "stream",
     "text": [
      "Ada Lovelace was considered the world's first computer programmer.\n"
     ]
    }
   ],
   "source": [
    "first_name = 'ada'\n",
    "last_name = 'lovelace'\n",
    "full_name = first_name + ' ' + last_name\n",
    "\n",
    "message = full_name.title() + ' ' + \"was considered the world's first computer programmer.\"\n",
    "\n",
    "print(message)"
   ]
  },
  {
   "cell_type": "markdown",
   "metadata": {},
   "source": [
    "### Методы для работы со строками\n",
    "Обзор на <a href=\"http://pythonworld.ru/tipy-dannyx-v-python/stroki-funkcii-i-metody-strok.html\">Pythonworld</a>"
   ]
  },
  {
   "cell_type": "markdown",
   "metadata": {},
   "source": [
    "**find / rfind ** - поиск подстроки в строке. "
   ]
  },
  {
   "cell_type": "code",
   "execution_count": 11,
   "metadata": {},
   "outputs": [
    {
     "data": {
      "text/plain": [
       "0"
      ]
     },
     "execution_count": 11,
     "metadata": {},
     "output_type": "execute_result"
    }
   ],
   "source": [
    "\"we bought a new house and we are happy\".find(\"we\")"
   ]
  },
  {
   "cell_type": "markdown",
   "metadata": {},
   "source": [
    "**replace** - замена по шаблону"
   ]
  },
  {
   "cell_type": "code",
   "execution_count": 13,
   "metadata": {},
   "outputs": [
    {
     "data": {
      "text/plain": [
       "'we bought a new building'"
      ]
     },
     "execution_count": 13,
     "metadata": {},
     "output_type": "execute_result"
    }
   ],
   "source": [
    "\"we bought a new house\".replace(\"house\", \"building\")"
   ]
  },
  {
   "cell_type": "markdown",
   "metadata": {},
   "source": [
    "**split** - разбиение строки по разделителю"
   ]
  },
  {
   "cell_type": "code",
   "execution_count": 14,
   "metadata": {},
   "outputs": [
    {
     "data": {
      "text/plain": [
       "['hello', 'great', 'to', 'see', 'you']"
      ]
     },
     "execution_count": 14,
     "metadata": {},
     "output_type": "execute_result"
    }
   ],
   "source": [
    "\"hello#$great#$to#$see#$you\".split(\"#$\")"
   ]
  },
  {
   "cell_type": "markdown",
   "metadata": {},
   "source": [
    "- **isdigit** - состоит ли строка из цифр;\n",
    "- **isalpha** - состоит ли строка из букв;\n",
    "- **isalnum** - состоит ли строка из цифр или букв;\n",
    "- **islower** - состоит ли строка из символов в нижнем регистре;\n",
    "- **isupper** - состоит ли строка из символов в верхнем регистре;\n",
    "- **istitle** - начинаются ли слова в строке с заглавной буквы."
   ]
  },
  {
   "cell_type": "markdown",
   "metadata": {},
   "source": [
    "**format** - форматирование строки"
   ]
  },
  {
   "cell_type": "code",
   "execution_count": 15,
   "metadata": {},
   "outputs": [
    {
     "name": "stdout",
     "output_type": "stream",
     "text": [
      "Ann (age 29) is a Artist\n",
      "Leo (age 54) is a Programmer\n",
      "Tiffany (age 43) is a Shop Assistant\n"
     ]
    }
   ],
   "source": [
    "# key-value pairs: client_id, (name, age, occupation)\n",
    "personal_data = {1: (\"Ann\", 29, \"Artist\"), \n",
    "               2: (\"Leo\", 54, \"Programmer\"), \n",
    "               3: (\"Tiffany\", 43, \"Shop Assistant\")}\n",
    "for (name, age, occupation) in personal_data.values():\n",
    "    print(\"{0} (age {1}) is a {2}\".format(name, age, occupation))"
   ]
  },
  {
   "cell_type": "markdown",
   "metadata": {},
   "source": [
    "## 5. Неизменяемость."
   ]
  },
  {
   "cell_type": "markdown",
   "metadata": {},
   "source": [
    "Все объекты в языке Python либо относятся к классу неизменяемых, либо нет. Если говорить о базовых типах, то числа, строки и кортежи являются неизменяемыми, а списки и словари – нет (они легко могут изменяться в любой своей части). Помимо всего неизменяемость может рассматриваться как гарантия, что некоторый объект будет оставаться постоянным на протяжении работы программы.\n",
    "\n",
    "Все операции над строками в результате создают новую строку, потому что строки в языке Python являются неизменяемыми – после того, как строка будет создана, ее нельзя изменить. Например, вы не сможете изменить строку присвоением значения одной из ее позиций, но вы всегда можете создать новую строку и присвоить ей то же самое имя."
   ]
  },
  {
   "cell_type": "markdown",
   "metadata": {},
   "source": [
    "### Неизменяемые типы\n",
    "\n",
    "int, float, complex, bool, str, tuple, frozenset\n",
    "\n",
    "При попытке совершить мутирующую операцию с неизменяемым объектом может произойти одна из двух вещей:\n",
    " - Произойдет создание измененной копии объекта (оператор += )\n",
    " - Произойдет ошибка (оператор [])\n",
    "    "
   ]
  },
  {
   "cell_type": "markdown",
   "metadata": {},
   "source": [
    "### Изменяемые типы \n",
    "​\n",
    "Пример :  list, dict, set"
   ]
  },
  {
   "cell_type": "markdown",
   "metadata": {},
   "source": [
    "##  6.  Переменные типа Bool. Условный оператор "
   ]
  },
  {
   "cell_type": "code",
   "execution_count": 2,
   "metadata": {},
   "outputs": [
    {
     "name": "stdout",
     "output_type": "stream",
     "text": [
      "<type 'bool'>\n",
      "False\n",
      "<type 'bool'>\n",
      "True\n",
      "<type 'bool'>\n"
     ]
    }
   ],
   "source": [
    "is_connected = True\n",
    "print(type(is_connected))\n",
    "\n",
    "a, b = 5, 6\n",
    "a_greater_b = a > b\n",
    "print(a_greater_b)\n",
    "print(type(a_greater_b))\n",
    "\n",
    "c = bool(1)\n",
    "print(c)\n",
    "print(type(c))"
   ]
  },
  {
   "cell_type": "markdown",
   "metadata": {},
   "source": [
    "#### В простейшем виде условная инструкция в Питоне имеет следующий синтаксис:\n",
    "\n",
    "if Условие:\n",
    "   \n",
    "    Блок инструкций 1\n",
    "\n",
    "else:\n",
    "   \n",
    "    Блок инструкций 2"
   ]
  },
  {
   "cell_type": "markdown",
   "metadata": {},
   "source": [
    "#### * Пример *\n",
    "Если число делится на 7, напечатать это число и строку \"YES\", в противном случае - \"NO\""
   ]
  },
  {
   "cell_type": "code",
   "execution_count": 5,
   "metadata": {},
   "outputs": [
    {
     "name": "stdout",
     "output_type": "stream",
     "text": [
      "Insert a number: 49\n",
      "49\n",
      "YES\n"
     ]
    }
   ],
   "source": [
    "a = int(input(\"Insert a number: \"))\n",
    "if a % 7 == 0:\n",
    "    print(a)\n",
    "    print(\"YES\")\n",
    "else:\n",
    "    print(\"NO\")"
   ]
  },
  {
   "cell_type": "markdown",
   "metadata": {},
   "source": [
    "#### Если в каждом блоке всего по одной инструкции, можно использовать сокращенный синтаксис:\n",
    "\n",
    "Инструкция 1 if Условие else Инструкция 2"
   ]
  },
  {
   "cell_type": "code",
   "execution_count": 6,
   "metadata": {},
   "outputs": [
    {
     "name": "stdout",
     "output_type": "stream",
     "text": [
      "0.07\n"
     ]
    }
   ],
   "source": [
    "has_debts = True\n",
    "comission = 0.07 if has_debts else 0.05\n",
    "print(comission)"
   ]
  },
  {
   "cell_type": "markdown",
   "metadata": {},
   "source": [
    "#### Условные конструкции могут быть вложенными. \n",
    "\n",
    "if Условие1:\n",
    "    \n",
    "    if Условие2:\n",
    "    \n",
    "        Блок инструкций 1\n",
    "        \n",
    "        ...\n",
    "        \n",
    "    else:\n",
    "    \n",
    "        Блок инструкций 2\n",
    "        \n",
    "else:\n",
    "   \n",
    "    Блок инструкций 3"
   ]
  },
  {
   "cell_type": "markdown",
   "metadata": {},
   "source": [
    "#### Пример\n",
    "Определить, в какой четверти находится точка, по ее координатам *(x, y)*"
   ]
  },
  {
   "cell_type": "code",
   "execution_count": 1,
   "metadata": {},
   "outputs": [
    {
     "name": "stdout",
     "output_type": "stream",
     "text": [
      "Insert x: 4\n",
      "Insert y: 5\n",
      "Первая четверть\n"
     ]
    }
   ],
   "source": [
    "x = input(\"Insert x: \")\n",
    "y = input(\"Insert y: \")\n",
    "if x > 0 and y > 0:\n",
    "    print(\"Первая четверть\")\n",
    "elif x > 0 and y < 0:\n",
    "    print(\"Четвертая четверть\")\n",
    "elif y > 0:\n",
    "    print(\"Вторая четверть\")\n",
    "else:\n",
    "    print(\"Третья четверть\")"
   ]
  },
  {
   "cell_type": "markdown",
   "metadata": {},
   "source": [
    "#### Задача [\"Високосный год\"](http://informatics.mccme.ru/mod/statements/view.php?id=8448#1)\n",
    "Требуется определить, является ли данный год високосным. (Напомним, что год является високосным, если его номер кратен 4, но не кратен 100, а также если он кратен 400.)\n",
    "\n",
    "Входные данные:\n",
    "Вводится единственное число - номер года (целое, положительное, не превышает 30000).\n",
    "\n",
    "Выходные данные:\n",
    "Требуется вывести слово YES, если год является високосным и NO - в противном случае.\n",
    "#### Решение\n",
    "Пока не используем функции и обработку исключений"
   ]
  },
  {
   "cell_type": "code",
   "execution_count": 3,
   "metadata": {},
   "outputs": [
    {
     "name": "stdout",
     "output_type": "stream",
     "text": [
      "Insert year and press Enter:2018\n",
      "NO\n"
     ]
    }
   ],
   "source": [
    "year = input(\"Insert year and press Enter:\")\n",
    "\n",
    "if year > 30000:\n",
    "    print \"Year should be <= 30000\"\n",
    "    year = input(\"Insert year and press Enter:\")\n",
    "    \n",
    "if (year % 4 == 0 and year % 100 != 0) or (year % 400 == 0):\n",
    "    print(\"YES\")\n",
    "else:\n",
    "    print(\"NO\")"
   ]
  },
  {
   "cell_type": "markdown",
   "metadata": {},
   "source": [
    "## 7. Управляющие конструкции While и For."
   ]
  },
  {
   "cell_type": "markdown",
   "metadata": {},
   "source": [
    "Цикл While \n",
    "===\n",
    "Цикл While очень удобен, потому что он позволяет Вашей программе работать, пока Вы не решите её остановить. Эта конструкция позволяет организовать бесконечный цикл, который ждет действий пользователя. "
   ]
  },
  {
   "cell_type": "markdown",
   "metadata": {},
   "source": [
    "Что такое цикл while?\n",
    "===\n",
    "Цикл while проверяет начальные условия. Если условие выполняется, цикл начинает работать. Каждый раз когда проходит одна итерация, условие проверяется снова. До тех пор, пока условие выполняется, цикл продолжает работать. Как только условие перестает выполняться, цикл заканчивает свою работу."
   ]
  },
  {
   "cell_type": "markdown",
   "metadata": {},
   "source": [
    "<img src=\"./images/while_cycle.png\" height=\"240\" width=\"860\">"
   ]
  },
  {
   "cell_type": "code",
   "execution_count": 3,
   "metadata": {},
   "outputs": [
    {
     "name": "stdout",
     "output_type": "stream",
     "text": [
      "10\n",
      "8\n",
      "6\n",
      "Done\n"
     ]
    }
   ],
   "source": [
    "a = 10\n",
    "\n",
    "while a > 5:\n",
    "    print(a)\n",
    "    a -= 2\n",
    "\n",
    "else:\n",
    "    print('Done')"
   ]
  },
  {
   "cell_type": "markdown",
   "metadata": {},
   "source": [
    "## Инструкции для работы с циклами\n",
    "---\n",
    "- **break** - Производит переход за пределы цикла\n",
    "\n",
    "- **continue** - Производит переход в начало цикла\n",
    "\n",
    "- **pass** - Ничего не делает, используется как заполнитель\n",
    "\n",
    "Блок **else** - выполняется, если цикл завершился необычным образом (break не в счет)"
   ]
  },
  {
   "cell_type": "markdown",
   "metadata": {},
   "source": [
    "while <test1>:\n",
    "\n",
    "    <statements1>\n",
    "    \n",
    "    if <test2>: break # Выйти из цикла, пропустив часть else\n",
    "    \n",
    "    if <test3>: continue # Перейти в начало цикла, к выражению test1\n",
    "    \n",
    "else:\n",
    "\n",
    "    <statements2> # Выполняется, если не была использована инструкция ‘break’"
   ]
  },
  {
   "cell_type": "code",
   "execution_count": 4,
   "metadata": {},
   "outputs": [
    {
     "name": "stdout",
     "output_type": "stream",
     "text": [
      "8\n",
      "6\n",
      "4\n",
      "2\n",
      "0\n"
     ]
    }
   ],
   "source": [
    "x = 10\n",
    "while x:\n",
    "    x = x - 1 # Или, x -= 1\n",
    "    if x % 2 != 0: continue # Нечетное? – пропустить вывод\n",
    "    print(x)"
   ]
  },
  {
   "cell_type": "markdown",
   "metadata": {},
   "source": [
    "## Цикл FOR\n",
    "\n",
    "Цикл for в языке Python начинается со строки заголовка, где указывается переменная для присваивания (цель), а также объект, обход которого будет выполнен. Вслед за заголовком следует блок инструкций, которые требуется выполнить:"
   ]
  },
  {
   "cell_type": "code",
   "execution_count": 13,
   "metadata": {},
   "outputs": [
    {
     "name": "stdout",
     "output_type": "stream",
     "text": [
      " 1 22 333 4444 55555 Done\n"
     ]
    }
   ],
   "source": [
    "from __future__ import print_function\n",
    "\n",
    "for i in [0, 1, 2, 3, 4, 5]:\n",
    "    print (str(i) * i, end =' ')\n",
    "else:\n",
    "    print ('Done')"
   ]
  },
  {
   "cell_type": "markdown",
   "metadata": {},
   "source": [
    "Когда интерпретатор выполняет цикл for, он поочередно, один за другим, присваивает элементы объекта\n",
    "последовательности переменной цикла и выполняет тело цикла для каждого из них. Для обращения к\n",
    "текущему элементу последовательности в теле цикла обычно используется переменная цикла, как если\n",
    "бы это был курсор, шагающий от элемента к элементу.\n",
    "Имя (target), используемое в качестве переменной цикла (возможно, новой), которое указывается в\n",
    "заголовке цикла for, обычно находится в области видимости, где располагается сама инструкция for. Хотя\n",
    "она может быть изменена в теле цикла, тем не менее ей автоматически будет присвоен следующий\n",
    "элемент последовательности, когда управление вернется в начало цикла. После выхода из цикла эта\n",
    "переменная обычно все еще ссылается на последний элемент последовательности, если цикл не был\n",
    "завершен инструкцией break."
   ]
  },
  {
   "cell_type": "markdown",
   "metadata": {},
   "source": [
    "# Задачи."
   ]
  },
  {
   "cell_type": "markdown",
   "metadata": {},
   "source": [
    "Даны три натуральных числа a, b, c. Определите, существует ли треугольник с такими сторонами. Если треугольник существует, выведите строку YES, иначе выведите строку NO.\n",
    "Треугольник — это три точки, не лежащие на одной прямой."
   ]
  },
  {
   "cell_type": "code",
   "execution_count": 16,
   "metadata": {},
   "outputs": [],
   "source": [
    "## Ваш код здесь"
   ]
  },
  {
   "cell_type": "markdown",
   "metadata": {},
   "source": [
    "Шахматная ладья ходит по горизонтали или вертикали. Даны две различные клетки шахматной доски, определите, может ли ладья попасть с первой клетки на вторую одним ходом."
   ]
  },
  {
   "cell_type": "code",
   "execution_count": 17,
   "metadata": {},
   "outputs": [],
   "source": [
    "## Ваш код здесь"
   ]
  },
  {
   "cell_type": "markdown",
   "metadata": {},
   "source": [
    "Шахматный конь ходит буквой “Г” — на две клетки по вертикали в любом направлении и на одну клетку по горизонтали или наоборот. Даны две различные клетки шахматной доски, определите, может ли конь попасть с первой клетки на вторую одним ходом."
   ]
  },
  {
   "cell_type": "code",
   "execution_count": 18,
   "metadata": {},
   "outputs": [],
   "source": [
    "## Ваш код здесь"
   ]
  },
  {
   "cell_type": "markdown",
   "metadata": {},
   "source": [
    "По данному натуральном n вычислите сумму $1^2+2^2+3^2+ \\ldots +n^2$."
   ]
  },
  {
   "cell_type": "code",
   "execution_count": 19,
   "metadata": {},
   "outputs": [],
   "source": [
    "## Ваш код здесь"
   ]
  },
  {
   "cell_type": "markdown",
   "metadata": {},
   "source": [
    "По данному целому неотрицательному n вычислите значение n!."
   ]
  },
  {
   "cell_type": "code",
   "execution_count": 22,
   "metadata": {},
   "outputs": [],
   "source": [
    "## Ваш код здесь"
   ]
  },
  {
   "cell_type": "markdown",
   "metadata": {},
   "source": [
    "Шоколадка имеет вид прямоугольника, разделенного на n×m долек. Шоколадку можно один раз разломить по прямой на две части. Определите, можно ли таким образом отломить от шоколадки ровно k долек."
   ]
  },
  {
   "cell_type": "code",
   "execution_count": 21,
   "metadata": {},
   "outputs": [],
   "source": [
    "## Ваш код здесь"
   ]
  },
  {
   "cell_type": "code",
   "execution_count": null,
   "metadata": {},
   "outputs": [],
   "source": []
  }
 ],
 "metadata": {
  "kernelspec": {
   "display_name": "Python 2",
   "language": "python",
   "name": "python2"
  },
  "language_info": {
   "codemirror_mode": {
    "name": "ipython",
    "version": 2
   },
   "file_extension": ".py",
   "mimetype": "text/x-python",
   "name": "python",
   "nbconvert_exporter": "python",
   "pygments_lexer": "ipython2",
   "version": "2.7.14"
  }
 },
 "nbformat": 4,
 "nbformat_minor": 1
}
